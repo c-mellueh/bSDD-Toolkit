{
 "cells": [
  {
   "cell_type": "code",
   "execution_count": 2,
   "id": "8b02d896",
   "metadata": {},
   "outputs": [
    {
     "data": {
      "text/plain": [
       "{'dictionaries': [{'availableLanguages': [{'code': 'de-DE', 'name': 'German'}],\n",
       "   'code': 'SOM',\n",
       "   'uri': 'https://identifier.buildingsmart.org/uri/hw/SOM/0.2.0',\n",
       "   'name': 'Hamburg Wasser SOM',\n",
       "   'version': '0.2.0',\n",
       "   'organizationCodeOwner': 'hw',\n",
       "   'organizationNameOwner': 'Hamburg Wasser',\n",
       "   'changeRequestEmail': 'christoph.mellueh@hamburgwasser.de',\n",
       "   'defaultLanguageCode': 'de-DE',\n",
       "   'isLatestVersion': True,\n",
       "   'isVerified': False,\n",
       "   'isPrivate': False,\n",
       "   'license': 'MIT',\n",
       "   'licenseUrl': 'https://www.mit.edu/~amini/LICENSE.md',\n",
       "   'status': 'Preview',\n",
       "   'releaseDate': '2025-08-20T17:18:29Z',\n",
       "   'lastUpdatedUtc': '2025-08-20T15:19:48Z'}],\n",
       " 'totalCount': 1,\n",
       " 'offset': 0,\n",
       " 'count': 1}"
      ]
     },
     "execution_count": 2,
     "metadata": {},
     "output_type": "execute_result"
    }
   ],
   "source": [
    "import bsdd\n",
    "from bsdd import Client\n",
    "client = Client()\n",
    "uri = 'https://identifier.buildingsmart.org/uri/hw/SOM/0.2.0'\n",
    "client.get_dictionary(uri,include_test_dictionaries=True)"
   ]
  },
  {
   "cell_type": "code",
   "execution_count": 3,
   "id": "c471e4a1",
   "metadata": {},
   "outputs": [],
   "source": [
    "url = \"https://identifier.buildingsmart.org/uri/buildingsmart/ifc/4.3/prop/Manufacturer\""
   ]
  },
  {
   "cell_type": "code",
   "execution_count": 4,
   "id": "2cd369a2",
   "metadata": {},
   "outputs": [
    {
     "data": {
      "text/plain": [
       "'https://identifier.buildingsmart.org/uri/buildingsmart/ifc/4.3/'"
      ]
     },
     "execution_count": 4,
     "metadata": {},
     "output_type": "execute_result"
    }
   ],
   "source": [
    "from urllib.parse import urlparse\n",
    "def get_dictionary_path_from_uri(uri:str)->str:\n",
    "    \"\"\"\n",
    "    Parse a buildingSMART identifier URI of the form:\n",
    "    https://identifier.buildingsmart.org/uri/<company>/<library>/<version>/\n",
    "    \n",
    "    Returns the base URI up to the version, or an empty string if invalid.\n",
    "    \"\"\"\n",
    "    base_prefix = \"https://identifier.buildingsmart.org/uri/\"\n",
    "    \n",
    "    # Ensure URI starts with required prefix\n",
    "    if not uri.startswith(base_prefix):\n",
    "        return \"\"\n",
    "    \n",
    "    parsed = urlparse(uri)\n",
    "    path_parts = parsed.path.strip(\"/\").split(\"/\")\n",
    "    \n",
    "    # Path must contain at least company, library, version\n",
    "    if len(path_parts) < 4:\n",
    "        return \"\"\n",
    "    \n",
    "    # Construct normalized result\n",
    "    result = f\"{base_prefix}{path_parts[1]}/{path_parts[2]}/{path_parts[3]}/\"\n",
    "    return result\n",
    "\n",
    "get_dictionary_path_from_uri(url)"
   ]
  },
  {
   "cell_type": "code",
   "execution_count": 5,
   "id": "b8247863",
   "metadata": {},
   "outputs": [
    {
     "data": {
      "text/plain": [
       "{'connectedPropertyCodes': [],\n",
       " 'dataType': 'String',\n",
       " 'propertyValueKind': 'Single',\n",
       " 'units': [],\n",
       " 'qudtCodes': [],\n",
       " 'dictionaryUri': 'https://identifier.buildingsmart.org/uri/buildingsmart/ifc/4.3',\n",
       " 'activationDateUtc': '2024-01-12T00:00:00Z',\n",
       " 'code': 'Manufacturer',\n",
       " 'countriesOfUse': [],\n",
       " 'definition': 'The organization that manufactured and/or assembled the item.',\n",
       " 'description': \"Technical note: in IFC this property takes 'IfcLabel' as value. Such objects are not included in bSDD for simplicity reason. IFC also doesn't enforce particular units, but recommends using metric SI units (metre, kilogram, etc.). Read the IFC documentation for more information.\",\n",
       " 'name': 'Manufacturer',\n",
       " 'uri': 'https://identifier.buildingsmart.org/uri/buildingsmart/ifc/4.3/prop/Manufacturer',\n",
       " 'replacedObjectCodes': [],\n",
       " 'replacingObjectCodes': [],\n",
       " 'status': 'Active',\n",
       " 'subdivisionsOfUse': [],\n",
       " 'versionDateUtc': '2024-01-12T00:00:00Z'}"
      ]
     },
     "execution_count": 5,
     "metadata": {},
     "output_type": "execute_result"
    }
   ],
   "source": [
    "client.get_property(url)"
   ]
  }
 ],
 "metadata": {
  "kernelspec": {
   "display_name": "Python 3",
   "language": "python",
   "name": "python3"
  },
  "language_info": {
   "codemirror_mode": {
    "name": "ipython",
    "version": 3
   },
   "file_extension": ".py",
   "mimetype": "text/x-python",
   "name": "python",
   "nbconvert_exporter": "python",
   "pygments_lexer": "ipython3",
   "version": "3.11.13"
  }
 },
 "nbformat": 4,
 "nbformat_minor": 5
}
