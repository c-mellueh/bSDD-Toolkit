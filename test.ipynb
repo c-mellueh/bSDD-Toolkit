{
 "cells": [
  {
   "cell_type": "code",
   "execution_count": 1,
   "id": "adfb063d",
   "metadata": {},
   "outputs": [],
   "source": [
    "class ColumnHandlerProperties:\n",
    "    def __init__(self):\n",
    "        super().__init__()\n",
    "        self.columns = dict()\n",
    "\n",
    "\n",
    "class ViewHandlerProperties:\n",
    "    def __init__(self):\n",
    "        super().__init__()\n",
    "        self.widgets = set()\n",
    "\n",
    "class ClassTreeProperties(ViewHandlerProperties,\n",
    "    ColumnHandlerProperties,\n",
    "):\n",
    "    pass"
   ]
  },
  {
   "cell_type": "code",
   "execution_count": 2,
   "id": "7a40908d",
   "metadata": {},
   "outputs": [],
   "source": [
    "test = ClassTreeProperties()"
   ]
  },
  {
   "cell_type": "code",
   "execution_count": 4,
   "id": "85886521",
   "metadata": {},
   "outputs": [
    {
     "data": {
      "text/plain": [
       "set()"
      ]
     },
     "execution_count": 4,
     "metadata": {},
     "output_type": "execute_result"
    }
   ],
   "source": [
    "test.widgets"
   ]
  }
 ],
 "metadata": {
  "kernelspec": {
   "display_name": "Python 3",
   "language": "python",
   "name": "python3"
  },
  "language_info": {
   "codemirror_mode": {
    "name": "ipython",
    "version": 3
   },
   "file_extension": ".py",
   "mimetype": "text/x-python",
   "name": "python",
   "nbconvert_exporter": "python",
   "pygments_lexer": "ipython3",
   "version": "3.11.13"
  }
 },
 "nbformat": 4,
 "nbformat_minor": 5
}
